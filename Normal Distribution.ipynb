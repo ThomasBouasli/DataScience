{
 "cells": [
  {
   "cell_type": "code",
   "execution_count": 22,
   "id": "4b7ee94e",
   "metadata": {},
   "outputs": [],
   "source": [
    "import numpy as np\n",
    "import matplotlib.pyplot as plt\n",
    "import collections"
   ]
  },
  {
   "cell_type": "code",
   "execution_count": 23,
   "id": "4e008139",
   "metadata": {},
   "outputs": [],
   "source": [
    "class Die:\n",
    "    def __init__(self, sides : int):\n",
    "        self.sides = sides\n",
    "    \n",
    "    def roll(self):\n",
    "        return np.random.randint(6) + 1\n",
    "    \n",
    "    def rolls(self, iterations : int):\n",
    "        result = []\n",
    "        for i in range(iterations):\n",
    "            result.append(self.roll())\n",
    "            \n",
    "        return result\n",
    "    "
   ]
  },
  {
   "cell_type": "code",
   "execution_count": 24,
   "id": "dad73b24",
   "metadata": {},
   "outputs": [],
   "source": [
    "class DataGenerator:\n",
    "    \n",
    "    mean = 0\n",
    "    standard_deviation = 0\n",
    "    \n",
    "    def random_rolls(self, ammount : int):\n",
    "        rolls = Die(6).rolls(ammount)\n",
    "        rolls.sort()\n",
    "        self.mean = np.mean(rolls)\n",
    "        self.standard_deviation = np.std(rolls)\n",
    "        return rolls\n",
    "    \n",
    "    def random_rolls_mean(self, ammount : int):\n",
    "        result = []\n",
    "\n",
    "        for i in range(10000):\n",
    "            rolls = Die(6).rolls(10)\n",
    "            mean = np.mean(rolls)\n",
    "            result.append(mean)\n",
    "            \n",
    "        result.sort()\n",
    "        self.mean = np.mean(result)\n",
    "        self.standard_deviation = np.std(result)\n",
    "        \n",
    "        return result\n",
    "    \n",
    "\n",
    "data_gen = DataGenerator()\n",
    "    \n",
    "result = data_gen.random_rolls_mean(1000)\n",
    "mean = data_gen.mean\n",
    "std = data_gen.standard_deviation\n",
    "        "
   ]
  },
  {
   "cell_type": "code",
   "execution_count": 25,
   "id": "450c19cc",
   "metadata": {},
   "outputs": [],
   "source": [
    "x = collections.Counter(result).keys()\n",
    "y = collections.Counter(result).values()"
   ]
  },
  {
   "cell_type": "code",
   "execution_count": 26,
   "id": "06c6b9b3",
   "metadata": {},
   "outputs": [
    {
     "data": {
      "image/png": "[encoded data removed]",
      "text/plain": [
       "<Figure size 432x288 with 1 Axes>"
      ]
     },
     "metadata": {
      "needs_background": "light"
     },
     "output_type": "display_data"
    }
   ],
   "source": [
    "plt.boxplot(x, vert=False, widths = 100)\n",
    "plt.plot(x,y)\n",
    "plt.show()"
   ]
  },
  {
   "cell_type": "code",
   "execution_count": 27,
   "id": "73f1c51b",
   "metadata": {},
   "outputs": [
    {
     "name": "stdout",
     "output_type": "stream",
     "text": [
      "Mean : 3.5098199999999995\n",
      "Standard Deviation : 0.5425970582301382\n"
     ]
    }
   ],
   "source": [
    "print(\"Mean : \" + str(mean) + \"\\n\" + \"Standard Deviation : \" + str(std))"
   ]
  },
  {
   "cell_type": "markdown",
   "id": "6a26cdd6",
   "metadata": {},
   "source": [
    "## Confidence Interval"
   ]
  },
  {
   "cell_type": "code",
   "execution_count": 37,
   "id": "297aba5a",
   "metadata": {},
   "outputs": [
    {
     "name": "stdout",
     "output_type": "stream",
     "text": [
      "If you roll a die 20 times, 95% of the time, their combined average will be between 3.5 & 3.52!\n"
     ]
    }
   ],
   "source": [
    "# 95 percentile interval\n",
    "z_score = 1.96\n",
    "\n",
    "std_error = std/np.sqrt(len(result))\n",
    "\n",
    "start_of_range = std_error*-z_score + mean\n",
    "end_of_range = std_error*z_score + mean\n",
    "    \n",
    "print(\"If you roll a die 20 times, 95% of the time, their combined average will be between \" + str(np.around(start_of_range, 2)) + \" & \" + str(np.around(end_of_range ,3)) + \"!\")\n",
    "                                                                                                                                               \n",
    "                                                                                                                                               \n",
    "                                                                                                                                               "
   ]
  },
  {
   "cell_type": "code",
   "execution_count": null,
   "id": "98dfc56a",
   "metadata": {},
   "outputs": [],
   "source": []
  }
 ],
 "metadata": {
  "kernelspec": {
   "display_name": "Python 3",
   "language": "python",
   "name": "python3"
  },
  "language_info": {
   "codemirror_mode": {
    "name": "ipython",
    "version": 3
   },
   "file_extension": ".py",
   "mimetype": "text/x-python",
   "name": "python",
   "nbconvert_exporter": "python",
   "pygments_lexer": "ipython3",
   "version": "3.8.8"
  }
 },
 "nbformat": 4,
 "nbformat_minor": 5
}
