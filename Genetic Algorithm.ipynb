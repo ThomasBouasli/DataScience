{
 "cells": [
  {
   "cell_type": "markdown",
   "metadata": {},
   "source": [
    "# Genetic Algorithm"
   ]
  },
  {
   "cell_type": "code",
   "execution_count": 199,
   "metadata": {},
   "outputs": [],
   "source": [
    "import numpy as np\n",
    "import random\n",
    "import string\n",
    "from IPython.display import display, clear_output\n",
    "import time\n"
   ]
  },
  {
   "cell_type": "code",
   "execution_count": 200,
   "metadata": {},
   "outputs": [],
   "source": [
    "class DNA:\n",
    "    def __init__(self, target):\n",
    "        self.target = target\n",
    "        self.genes = self.randomCharList(target)\n",
    "        self.fitness = 0\n",
    "\n",
    "    def randomCharList(self ,target):\n",
    "        return [random.choice(string.ascii_letters + ' ') for _ in range(len(target))]\n",
    "\n",
    "    def calculateFitness(self):\n",
    "        score = 0\n",
    "        for i in range(len(self.target)):\n",
    "            if self.genes[i] == self.target[i]:\n",
    "                score += 1\n",
    "        self.fitness = score / len(self.target)\n",
    "\n",
    "    def reproduce(self, partner):\n",
    "        child = DNA(self.target)\n",
    "        midpoint = int(random.random() * len(self.genes))\n",
    "        child.genes = self.genes[0:midpoint] + partner.genes[midpoint:]\n",
    "        return child\n",
    "\n",
    "    def mutate(self, mutationRate):\n",
    "        for i in range(len(self.genes)):\n",
    "            if random.random() < mutationRate:\n",
    "                self.genes[i] = random.choice(string.ascii_letters + ' ')\n",
    "    def getPhrase(self):\n",
    "        return ''.join(self.genes)\n"
   ]
  },
  {
   "cell_type": "code",
   "execution_count": 201,
   "metadata": {},
   "outputs": [],
   "source": [
    "class Population:\n",
    "    def __init__(self, size, target):\n",
    "        self.size = size\n",
    "        self.individuals = []\n",
    "        self.target = target\n",
    "        self.generation = 0\n",
    "        self.create()\n",
    "\n",
    "    def create(self):\n",
    "        for _ in range(self.size):\n",
    "            self.individuals.append(DNA(self.target))\n",
    "\n",
    "        self.mutate()\n",
    "\n",
    "    def mutate(self):\n",
    "        for individual in self.individuals:\n",
    "            individual.mutate(0.01)\n",
    "\n",
    "    def evaluate(self):\n",
    "        for individual in self.individuals:\n",
    "            individual.calculateFitness()\n",
    "\n",
    "    def reproduce(self):\n",
    "        matingPool = MatingPool(self.individuals)\n",
    "        matingPool.create()\n",
    "        matingPool.select()\n",
    "        nextGen = matingPool.reproduce()\n",
    "        self.individuals = nextGen\n",
    "        self.mutate()\n",
    "        self.generation += 1\n",
    "\n",
    "    def getBest(self):\n",
    "        best = self.individuals[0]\n",
    "        for individual in self.individuals:\n",
    "            if individual.fitness > best.fitness:\n",
    "                best = individual\n",
    "        return best\n",
    "\n",
    "    def getBestPhrase(self):\n",
    "        return self.getBest().getPhrase()\n",
    "        \n",
    "\n",
    "    \n",
    "    "
   ]
  },
  {
   "cell_type": "code",
   "execution_count": 202,
   "metadata": {},
   "outputs": [],
   "source": [
    "class MatingPool:\n",
    "    def __init__(self, population):\n",
    "        self.population = population\n",
    "        self.matingPool = []\n",
    "        self.reproductionCycles = 1000\n",
    "\n",
    "    def create(self):\n",
    "        for individual in self.population:\n",
    "            for _ in range(int(individual.fitness * 100)):\n",
    "                self.matingPool.append(individual)\n",
    "\n",
    "    def select(self):\n",
    "        return random.choice(self.matingPool)\n",
    "\n",
    "    def reproduce(self):\n",
    "        children = []\n",
    "        for _ in range(self.reproductionCycles):\n",
    "            parentA = self.select()\n",
    "            parentB = self.select()\n",
    "            child = parentA.reproduce(parentB)\n",
    "            children.append(child)\n",
    "        return children"
   ]
  },
  {
   "cell_type": "code",
   "execution_count": 203,
   "metadata": {},
   "outputs": [],
   "source": [
    "class Evolution:\n",
    "\n",
    "    def __init__(self, target, populationSize):\n",
    "        self.target = target\n",
    "        self.population = Population(populationSize, target)\n",
    "\n",
    "    def run(self):\n",
    "        while True:\n",
    "\n",
    "            display('fittest: ' + str(self.population.getBestPhrase()) + ' | Generation: ' + str(self.population.generation) + ' | Fitness: ' + str(self.population.getBest().fitness))\n",
    "\n",
    "            if(self.population.getBestPhrase() == self.target):\n",
    "                break\n",
    "\n",
    "            self.population.evaluate()\n",
    "            self.population.reproduce()\n",
    "            clear_output(wait=True)\n",
    "            time.sleep(0.01)"
   ]
  },
  {
   "cell_type": "code",
   "execution_count": 204,
   "metadata": {},
   "outputs": [
    {
     "data": {
      "text/plain": [
       "'fittest: Never gonna give you up | Generation: 138 | Fitness: 0'"
      ]
     },
     "metadata": {},
     "output_type": "display_data"
    }
   ],
   "source": [
    "env = Evolution('Never gonna give you up', 1000)\n",
    "env.run()"
   ]
  }
 ],
 "metadata": {
  "interpreter": {
   "hash": "aee8b7b246df8f9039afb4144a1f6fd8d2ca17a180786b69acc140d282b71a49"
  },
  "kernelspec": {
   "display_name": "Python 3.9.7 64-bit",
   "name": "python3"
  },
  "language_info": {
   "codemirror_mode": {
    "name": "ipython",
    "version": 3
   },
   "file_extension": ".py",
   "mimetype": "text/x-python",
   "name": "python",
   "nbconvert_exporter": "python",
   "pygments_lexer": "ipython3",
   "version": "3.9.7"
  }
 },
 "nbformat": 4,
 "nbformat_minor": 5
}
